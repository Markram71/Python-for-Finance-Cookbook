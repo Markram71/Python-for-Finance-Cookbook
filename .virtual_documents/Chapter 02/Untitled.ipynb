import plotly.graph_objects as go
from plotly.subplots import make_subplots
import yfinance as yf
import pandas as pd # Make sure pandas is imported

# Using 'AAPL' since 'TWTR' is delisted
df_aapl = yf.download('AAPL',
                      start='2018-01-01',
                      end='2018-12-31',
                      progress=False)

# Calculate indicators
df_aapl['SMA20'] = df_aapl['Close'].rolling(window=20).mean()
df_aapl['EMA20'] = df_aapl['Close'].ewm(span=20, adjust=False).mean()

# Create figure with secondary y-axis
fig = make_subplots(rows=2, cols=1, shared_xaxes=True,
                   vertical_spacing=0.03, subplot_titles=('Price', 'Volume'),
                   row_width=[0.2, 0.7])

# 1. Add Candlestick trace
fig.add_trace(go.Candlestick(x=df_aapl.index,
                open=df_aapl['Open'],
                high=df_aapl['High'],
                low=df_aapl['Low'],
                close=df_aapl['Close'],
                name="Candlestick"),
                row=1, col=1)

# 2. Add SMA and EMA traces
fig.add_trace(go.Scatter(x=df_aapl.index, y=df_aapl['SMA20'], name="SMA 20", line=dict(color='red')), row=1, col=1)
fig.add_trace(go.Scatter(x=df_aapl.index, y=df_aapl['EMA20'], name="EMA 20", line=dict(color='green')), row=1, col=1)

# 3. Add Volume trace
fig.add_trace(go.Bar(x=df_aapl.index, y=df_aapl['Volume'], name="Volume"), row=2, col=1)

# Update layout
fig.update_layout(
    title="Apple's Stock Price",
    yaxis_title="Price ($)",
    legend_title="Legend",
    xaxis_rangeslider_visible=False # Hides the range slider for the top plot
)

fig.show()



